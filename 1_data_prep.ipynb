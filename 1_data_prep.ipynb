{
 "cells": [
  {
   "cell_type": "code",
   "execution_count": 1,
   "id": "072b9245-b870-438e-887d-5dbd43a3219a",
   "metadata": {},
   "outputs": [
    {
     "name": "stdout",
     "output_type": "stream",
     "text": [
      "TRAIN -> X: torch.Size([39294, 18, 1]), y: torch.Size([39294, 1])\n",
      "VALID -> X: torch.Size([8766, 18, 1]), y: torch.Size([8766, 1])\n",
      "TEST -> X: torch.Size([4446, 18, 1]), y: torch.Size([4446, 1])\n"
     ]
    }
   ],
   "source": [
    "# ---------------------------------------------\n",
    "# Prepare time series data for PyTorch models. \n",
    "# ---------------------------------------------\n",
    "from functions import time_split, scale_series, create_windows, to_tensor, load_data\n",
    "from imports import *\n",
    "from config import *\n",
    "\n",
    "# ---------------------------------------------\n",
    "# Load  Data\n",
    "# ---------------------------------------------\n",
    "DATA_PATH = f'{DATA_DIR}/km_scada_sample_2022.csv'\n",
    "df = load_data(DATA_PATH)\n",
    "\n",
    "# -------------------------------\n",
    "# Main Processing Pipeline\n",
    "# -------------------------------\n",
    "\n",
    "def preprocess_data(df: pd.DataFrame, WINDOW_SIZE : int, STEP_AHEAD : int ) -> dict[str, tuple[torch.Tensor, torch.Tensor]]:\n",
    "    \"\"\"\n",
    "    Complete preprocessing pipeline:\n",
    "    Splits data → Scales → Windows → Converts to PyTorch Tensors\n",
    "    \"\"\"\n",
    "    train, valid, test = time_split(df)\n",
    "    train_scaled, valid_scaled, test_scaled, scaler = scale_series(train, valid, test, TARGET_COL)\n",
    "\n",
    "    X_train, y_train = create_windows(train_scaled, WINDOW_SIZE, STEP_AHEAD)\n",
    "    X_valid, y_valid = create_windows(valid_scaled, WINDOW_SIZE, STEP_AHEAD)\n",
    "    X_test, y_test = create_windows(test_scaled, WINDOW_SIZE, STEP_AHEAD)\n",
    "\n",
    "    X_train_t, y_train_t = to_tensor(X_train, y_train)\n",
    "    X_valid_t, y_valid_t = to_tensor(X_valid, y_valid)\n",
    "    X_test_t, y_test_t = to_tensor(X_test, y_test)\n",
    "\n",
    "    return {\n",
    "        'train': (X_train_t, y_train_t),\n",
    "        'valid': (X_valid_t, y_valid_t),\n",
    "        'test': (X_test_t, y_test_t)\n",
    "    }, scaler\n",
    "    \n",
    "# Then call processing function\n",
    "processed_dict, scaler = preprocess_data(df, WINDOW_SIZE, STEP_AHEAD)\n",
    "\n",
    "# Sanity check\n",
    "for split, (X, y) in processed_dict.items():\n",
    "    print(f\"{split.upper()} -> X: {X.shape}, y: {y.shape}\")"
   ]
  },
  {
   "cell_type": "code",
   "execution_count": 3,
   "id": "025b44d3-254c-42db-a4c1-5a0bf9b6af93",
   "metadata": {},
   "outputs": [],
   "source": [
    "# Save dict\n",
    "clean_prepped_dataset = {'dataset': processed_dict,\n",
    "                            'scaler': scaler}\n",
    "# Save results\n",
    "os.makedirs(DATA_DIR, exist_ok=True)\n",
    "\n",
    "with open(f'{DATA_DIR}/clean_prepped_dataset.pkl', 'wb') as f:\n",
    "    pickle.dump(clean_prepped_dataset, f)"
   ]
  },
  {
   "cell_type": "markdown",
   "id": "85affe1c-c2da-41fd-9540-f311835b50dc",
   "metadata": {},
   "source": [
    "TUTORIAL FIXES:\n",
    "\n",
    "1. add general functions to functions.py (either write your own or use those available.)\n",
    "- split\n",
    "- scale\n",
    "- Extract Repetitive Windowing Logic into a Function\n",
    "Refactor the inline loops into a reusable create_windows() function\n",
    "- create to_tensor function to avoid repitition\n",
    "\n",
    "2. Use Type Hints - Add type annotations to all function definitions\n",
    "def preprocess_data(df: pd.DataFrame, WINDOW_SIZE : int, STEP_AHEAD : int ) -> dict[str, tuple[torch.Tensor, torch.Tensor]]:\n",
    "\n",
    "3. make docstring descriptions of functions\n",
    "\n",
    "4. Use Section Headers to Separate Logical Blocks\n",
    "e.g., # -------------------- Windowing --------------------\n",
    "\n",
    "5. Add Comments to Explain Non-Obvious Steps\n",
    "Especially around indexing logic in window creation\n",
    "\n",
    "6. Avoid Abbreviated Variable Names\n",
    "Replace tr, va, te with descriptive names\n",
    "\n",
    "7. Add Constants at the Top - config.py\n",
    "e.g., (TRAIN_MONTHS, VALID_MONTHS, WINDOW_SIZE, STEPS_AHEAD) instead of hardcoded values\n",
    " \n",
    "9. use the load_data function\n",
    "\n",
    "10. Make a printout of shapes.\n",
    "\n",
    "11. PEP8 Formatting\n",
    "Ensure proper indentation, spacing, and line lengths\n",
    "\n",
    "\n",
    "\n",
    "\n",
    "\n",
    "\n",
    "\n"
   ]
  }
 ],
 "metadata": {
  "kernelspec": {
   "display_name": "Python 3 (ipykernel)",
   "language": "python",
   "name": "python3"
  },
  "language_info": {
   "codemirror_mode": {
    "name": "ipython",
    "version": 3
   },
   "file_extension": ".py",
   "mimetype": "text/x-python",
   "name": "python",
   "nbconvert_exporter": "python",
   "pygments_lexer": "ipython3",
   "version": "3.11.10"
  }
 },
 "nbformat": 4,
 "nbformat_minor": 5
}
