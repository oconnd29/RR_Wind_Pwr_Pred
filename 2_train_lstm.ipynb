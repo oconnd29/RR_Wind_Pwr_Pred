{
 "cells": [
  {
   "cell_type": "code",
   "execution_count": 1,
   "id": "5defd447-7b65-48ec-9ae0-a6527643c0bd",
   "metadata": {},
   "outputs": [
    {
     "name": "stderr",
     "output_type": "stream",
     "text": [
      "Training: 100%|████████████████████████████████████████████████████████████████████████| 10/10 [02:08<00:00, 12.84s/it]\n"
     ]
    },
    {
     "name": "stdout",
     "output_type": "stream",
     "text": [
      "✅ Final Validation Loss: 0.0059\n"
     ]
    }
   ],
   "source": [
    "# -------------------------------\n",
    "# Imports\n",
    "# -------------------------------\n",
    "from functions import train_test_model, LSTMPredictor\n",
    "from imports import *\n",
    "from config import *\n",
    "\n",
    "# ---------------------------------------------\n",
    "# Load  Data\n",
    "# ---------------------------------------------\n",
    "with open(f'{DATA_DIR}/clean_prepped_dataset.pkl', 'rb') as f:\n",
    "    clean_prepped_dataset = pickle.load(f)\n",
    "\n",
    "scaler = clean_prepped_dataset['scaler']\n",
    "dataset = clean_prepped_dataset['dataset']\n",
    "\n",
    "\n",
    "# -------------------------------\n",
    "# Training\n",
    "# -------------------------------\n",
    "\n",
    "torch.manual_seed(RANDOM_SEED)\n",
    "\n",
    "# LAOD IN datasets\n",
    "X_train_t, y_train_t = dataset['train']\n",
    "X_valid_t, y_valid_t = dataset['valid']\n",
    "\n",
    "# Create Dataloaders\n",
    "train_loader = DataLoader(TensorDataset(X_train_t, y_train_t), batch_size=BATCH_SIZE, shuffle=True)\n",
    "valid_loader = DataLoader(TensorDataset(X_valid_t, y_valid_t), batch_size=BATCH_SIZE)\n",
    "\n",
    "# Initialise Model\n",
    "model = LSTMPredictor(N_CHANNELS, HIDDEN_SIZE, NUM_LAYERS)\n",
    "\n",
    "# Perform Training\n",
    "val_loss, trained_model = train_test_model(model, train_loader, valid_loader, NUM_EPOCHS, LEARNING_RATE)\n",
    "print(f\"✅ Final Validation Loss: {val_loss:.4f}\")\n",
    "\n"
   ]
  },
  {
   "cell_type": "code",
   "execution_count": 2,
   "id": "bed4522a-c38c-4ebe-b873-a8e5770f9232",
   "metadata": {},
   "outputs": [
    {
     "name": "stdout",
     "output_type": "stream",
     "text": [
      "✅ Best model, hyperparameters, and scaler saved to:\n",
      "./saved_models\\best_model_dict.pkl\n"
     ]
    }
   ],
   "source": [
    "# -------------------------------\n",
    "# Save Best Model, Scaler, and Hyperparameters\n",
    "# -------------------------------\n",
    "\n",
    "# Make sure directory exists\n",
    "os.makedirs(SAVE_DIR, exist_ok=True)\n",
    "\n",
    "# Combine everything into a dictionary\n",
    "trained_model_state_dict = trained_model.state_dict() \n",
    "\n",
    "# Save with pickle\n",
    "save_path = os.path.join(SAVE_DIR, MODEL_FILE)\n",
    "with open(save_path, 'wb') as f:\n",
    "    pickle.dump(trained_model_state_dict, f)\n",
    "\n",
    "print(f\"✅ Best model, hyperparameters, and scaler saved to:\\n{save_path}\")\n"
   ]
  }
 ],
 "metadata": {
  "kernelspec": {
   "display_name": "Python 3 (ipykernel)",
   "language": "python",
   "name": "python3"
  },
  "language_info": {
   "codemirror_mode": {
    "name": "ipython",
    "version": 3
   },
   "file_extension": ".py",
   "mimetype": "text/x-python",
   "name": "python",
   "nbconvert_exporter": "python",
   "pygments_lexer": "ipython3",
   "version": "3.11.10"
  }
 },
 "nbformat": 4,
 "nbformat_minor": 5
}
